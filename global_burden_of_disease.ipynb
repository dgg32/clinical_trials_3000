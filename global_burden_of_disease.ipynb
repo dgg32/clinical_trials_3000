{
 "cells": [
  {
   "cell_type": "code",
   "execution_count": 1,
   "metadata": {},
   "outputs": [],
   "source": [
    "import pandas as pd"
   ]
  },
  {
   "cell_type": "code",
   "execution_count": 2,
   "metadata": {},
   "outputs": [],
   "source": [
    "df = pd.read_csv('2019 global burden of disease all causes global both sexes.tsv', sep='\\t')"
   ]
  },
  {
   "cell_type": "code",
   "execution_count": 8,
   "metadata": {},
   "outputs": [
    {
     "data": {
      "text/html": [
       "<div>\n",
       "<style scoped>\n",
       "    .dataframe tbody tr th:only-of-type {\n",
       "        vertical-align: middle;\n",
       "    }\n",
       "\n",
       "    .dataframe tbody tr th {\n",
       "        vertical-align: top;\n",
       "    }\n",
       "\n",
       "    .dataframe thead th {\n",
       "        text-align: right;\n",
       "    }\n",
       "</style>\n",
       "<table border=\"1\" class=\"dataframe\">\n",
       "  <thead>\n",
       "    <tr style=\"text-align: right;\">\n",
       "      <th></th>\n",
       "      <th>measure_id</th>\n",
       "      <th>measure_name</th>\n",
       "      <th>location_id</th>\n",
       "      <th>location_name</th>\n",
       "      <th>sex_id</th>\n",
       "      <th>sex_name</th>\n",
       "      <th>age_id</th>\n",
       "      <th>age_name</th>\n",
       "      <th>cause_id</th>\n",
       "      <th>cause_name</th>\n",
       "      <th>metric_id</th>\n",
       "      <th>metric_name</th>\n",
       "      <th>year</th>\n",
       "      <th>val</th>\n",
       "      <th>upper</th>\n",
       "      <th>lower</th>\n",
       "    </tr>\n",
       "  </thead>\n",
       "  <tbody>\n",
       "    <tr>\n",
       "      <th>0</th>\n",
       "      <td>1</td>\n",
       "      <td>Deaths</td>\n",
       "      <td>1</td>\n",
       "      <td>Global</td>\n",
       "      <td>3</td>\n",
       "      <td>Both</td>\n",
       "      <td>22</td>\n",
       "      <td>All ages</td>\n",
       "      <td>423</td>\n",
       "      <td>Larynx cancer</td>\n",
       "      <td>1</td>\n",
       "      <td>Number</td>\n",
       "      <td>2019</td>\n",
       "      <td>1.233556e+05</td>\n",
       "      <td>1.327984e+05</td>\n",
       "      <td>1.149414e+05</td>\n",
       "    </tr>\n",
       "    <tr>\n",
       "      <th>1</th>\n",
       "      <td>1</td>\n",
       "      <td>Deaths</td>\n",
       "      <td>1</td>\n",
       "      <td>Global</td>\n",
       "      <td>3</td>\n",
       "      <td>Both</td>\n",
       "      <td>22</td>\n",
       "      <td>All ages</td>\n",
       "      <td>423</td>\n",
       "      <td>Larynx cancer</td>\n",
       "      <td>2</td>\n",
       "      <td>Percent</td>\n",
       "      <td>2019</td>\n",
       "      <td>2.182291e-03</td>\n",
       "      <td>2.306755e-03</td>\n",
       "      <td>2.069808e-03</td>\n",
       "    </tr>\n",
       "    <tr>\n",
       "      <th>2</th>\n",
       "      <td>1</td>\n",
       "      <td>Deaths</td>\n",
       "      <td>1</td>\n",
       "      <td>Global</td>\n",
       "      <td>3</td>\n",
       "      <td>Both</td>\n",
       "      <td>22</td>\n",
       "      <td>All ages</td>\n",
       "      <td>423</td>\n",
       "      <td>Larynx cancer</td>\n",
       "      <td>3</td>\n",
       "      <td>Rate</td>\n",
       "      <td>2019</td>\n",
       "      <td>1.594264e+00</td>\n",
       "      <td>1.716304e+00</td>\n",
       "      <td>1.485518e+00</td>\n",
       "    </tr>\n",
       "    <tr>\n",
       "      <th>3</th>\n",
       "      <td>1</td>\n",
       "      <td>Deaths</td>\n",
       "      <td>1</td>\n",
       "      <td>Global</td>\n",
       "      <td>3</td>\n",
       "      <td>Both</td>\n",
       "      <td>22</td>\n",
       "      <td>All ages</td>\n",
       "      <td>426</td>\n",
       "      <td>Tracheal, bronchus, and lung cancer</td>\n",
       "      <td>1</td>\n",
       "      <td>Number</td>\n",
       "      <td>2019</td>\n",
       "      <td>2.042640e+06</td>\n",
       "      <td>2.193269e+06</td>\n",
       "      <td>1.879241e+06</td>\n",
       "    </tr>\n",
       "    <tr>\n",
       "      <th>4</th>\n",
       "      <td>1</td>\n",
       "      <td>Deaths</td>\n",
       "      <td>1</td>\n",
       "      <td>Global</td>\n",
       "      <td>3</td>\n",
       "      <td>Both</td>\n",
       "      <td>22</td>\n",
       "      <td>All ages</td>\n",
       "      <td>426</td>\n",
       "      <td>Tracheal, bronchus, and lung cancer</td>\n",
       "      <td>2</td>\n",
       "      <td>Percent</td>\n",
       "      <td>2019</td>\n",
       "      <td>3.613774e-02</td>\n",
       "      <td>3.834579e-02</td>\n",
       "      <td>3.359484e-02</td>\n",
       "    </tr>\n",
       "  </tbody>\n",
       "</table>\n",
       "</div>"
      ],
      "text/plain": [
       "   measure_id measure_name  location_id location_name  sex_id sex_name  \\\n",
       "0           1       Deaths            1        Global       3     Both   \n",
       "1           1       Deaths            1        Global       3     Both   \n",
       "2           1       Deaths            1        Global       3     Both   \n",
       "3           1       Deaths            1        Global       3     Both   \n",
       "4           1       Deaths            1        Global       3     Both   \n",
       "\n",
       "   age_id  age_name  cause_id                           cause_name  metric_id  \\\n",
       "0      22  All ages       423                        Larynx cancer          1   \n",
       "1      22  All ages       423                        Larynx cancer          2   \n",
       "2      22  All ages       423                        Larynx cancer          3   \n",
       "3      22  All ages       426  Tracheal, bronchus, and lung cancer          1   \n",
       "4      22  All ages       426  Tracheal, bronchus, and lung cancer          2   \n",
       "\n",
       "  metric_name  year           val         upper         lower  \n",
       "0      Number  2019  1.233556e+05  1.327984e+05  1.149414e+05  \n",
       "1     Percent  2019  2.182291e-03  2.306755e-03  2.069808e-03  \n",
       "2        Rate  2019  1.594264e+00  1.716304e+00  1.485518e+00  \n",
       "3      Number  2019  2.042640e+06  2.193269e+06  1.879241e+06  \n",
       "4     Percent  2019  3.613774e-02  3.834579e-02  3.359484e-02  "
      ]
     },
     "execution_count": 8,
     "metadata": {},
     "output_type": "execute_result"
    }
   ],
   "source": [
    "df.head()"
   ]
  },
  {
   "cell_type": "code",
   "execution_count": 43,
   "metadata": {},
   "outputs": [],
   "source": [
    "disease_stats = {}\n",
    "\n",
    "headers = set()\n",
    "\n",
    "for i, row in df.iterrows():\n",
    "    measure = row['measure_name']\n",
    "    cause = row['cause_name']\n",
    "    metric = row['metric_name']\n",
    "    value = row['val']\n",
    "\n",
    "    if cause not in disease_stats:\n",
    "        disease_stats[cause] = {}\n",
    "\n",
    "    disease_stats[cause][f\"{measure}-{metric}\"] = value\n",
    "\n",
    "    headers.add(f\"{measure}-{metric}\")"
   ]
  },
  {
   "cell_type": "code",
   "execution_count": 44,
   "metadata": {},
   "outputs": [],
   "source": [
    "headers = sorted(list(headers))\n"
   ]
  },
  {
   "cell_type": "code",
   "execution_count": 45,
   "metadata": {},
   "outputs": [
    {
     "data": {
      "text/plain": [
       "['DALYs (Disability-Adjusted Life Years)-Number',\n",
       " 'DALYs (Disability-Adjusted Life Years)-Percent',\n",
       " 'DALYs (Disability-Adjusted Life Years)-Rate',\n",
       " 'Deaths-Number',\n",
       " 'Deaths-Percent',\n",
       " 'Deaths-Rate']"
      ]
     },
     "execution_count": 45,
     "metadata": {},
     "output_type": "execute_result"
    }
   ],
   "source": [
    "headers"
   ]
  },
  {
   "cell_type": "code",
   "execution_count": 27,
   "metadata": {},
   "outputs": [
    {
     "data": {
      "text/plain": [
       "364"
      ]
     },
     "execution_count": 27,
     "metadata": {},
     "output_type": "execute_result"
    }
   ],
   "source": [
    "len(disease_stats)"
   ]
  },
  {
   "cell_type": "code",
   "execution_count": 28,
   "metadata": {},
   "outputs": [
    {
     "data": {
      "text/plain": [
       "{'Deaths-Number': 123355.5899,\n",
       " 'Deaths-Percent': 0.002182290625,\n",
       " 'Deaths-Rate': 1.594263701,\n",
       " 'DALYs (Disability-Adjusted Life Years)-Number': 3262221.403,\n",
       " 'DALYs (Disability-Adjusted Life Years)-Percent': 0.001288241819,\n",
       " 'DALYs (Disability-Adjusted Life Years)-Rate': 42.16137406}"
      ]
     },
     "execution_count": 28,
     "metadata": {},
     "output_type": "execute_result"
    }
   ],
   "source": [
    "disease_stats[\"Larynx cancer\"]"
   ]
  },
  {
   "cell_type": "code",
   "execution_count": 48,
   "metadata": {},
   "outputs": [],
   "source": [
    "content = \"\\t\".join([\"name\", \"death number\", \"death percent\", \"death rate\", \"DALYs number\", \"DALYs percent\", \"DALYs rate\"]) + \"\\n\"\n",
    "for d in disease_stats:\n",
    "    #print (d, disease_stats[d])\n",
    "    content += f\"{d}\\t\"\n",
    "    for k in headers:\n",
    "        if k in disease_stats[d]:\n",
    "            content += f\"{disease_stats[d][k]}\\t\"\n",
    "        else:\n",
    "            content += \"\\t\"\n",
    "    content = content.strip() + \"\\n\"\n",
    "\n",
    "with open(\"disease_stats.tsv\", \"w\") as f:\n",
    "    f.write(content)"
   ]
  },
  {
   "cell_type": "code",
   "execution_count": null,
   "metadata": {},
   "outputs": [],
   "source": []
  }
 ],
 "metadata": {
  "kernelspec": {
   "display_name": "bigquery_pricing",
   "language": "python",
   "name": "python3"
  },
  "language_info": {
   "codemirror_mode": {
    "name": "ipython",
    "version": 3
   },
   "file_extension": ".py",
   "mimetype": "text/x-python",
   "name": "python",
   "nbconvert_exporter": "python",
   "pygments_lexer": "ipython3",
   "version": "3.11.5"
  }
 },
 "nbformat": 4,
 "nbformat_minor": 2
}
