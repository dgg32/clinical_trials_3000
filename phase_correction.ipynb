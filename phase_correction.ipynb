{
 "cells": [
  {
   "cell_type": "code",
   "execution_count": 21,
   "metadata": {},
   "outputs": [],
   "source": [
    "import pandas as pd\n",
    "import numpy as np"
   ]
  },
  {
   "cell_type": "code",
   "execution_count": 22,
   "metadata": {},
   "outputs": [],
   "source": [
    "clinical_trials = pd.read_csv('clinical_study_data_request_com_all_sponsor.tsv', sep=\"\\t\")"
   ]
  },
  {
   "cell_type": "code",
   "execution_count": 23,
   "metadata": {},
   "outputs": [
    {
     "data": {
      "text/plain": [
       "Phase\n",
       "Phase 3              1232\n",
       "Phase 1               730\n",
       "Phase 2               644\n",
       "Phase 4               406\n",
       "Phase 2/3               8\n",
       "Phase 1/2               4\n",
       "Phase 2/Phase 3         3\n",
       "Phase 1 / Phase 2       1\n",
       "PHASE I                 1\n",
       "PHASE IIIA              1\n",
       "Name: count, dtype: int64"
      ]
     },
     "execution_count": 23,
     "metadata": {},
     "output_type": "execute_result"
    }
   ],
   "source": [
    "clinical_trials.Phase.value_counts()"
   ]
  },
  {
   "cell_type": "code",
   "execution_count": 24,
   "metadata": {},
   "outputs": [],
   "source": [
    "clinical_trials['Phase'] = clinical_trials['Phase'].replace({'Phase 2/Phase 3':'Phase 2/3', 'Phase 1 / Phase 2':'Phase 1/2', 'PHASE I': 'Phase 1', 'PHASE IIIA': 'Phase 3'})"
   ]
  },
  {
   "cell_type": "code",
   "execution_count": 25,
   "metadata": {},
   "outputs": [
    {
     "data": {
      "text/plain": [
       "Phase\n",
       "Phase 3      1233\n",
       "Phase 1       731\n",
       "Phase 2       644\n",
       "Phase 4       406\n",
       "Phase 2/3      11\n",
       "Phase 1/2       5\n",
       "Name: count, dtype: int64"
      ]
     },
     "execution_count": 25,
     "metadata": {},
     "output_type": "execute_result"
    }
   ],
   "source": [
    "clinical_trials.Phase.value_counts()"
   ]
  },
  {
   "cell_type": "code",
   "execution_count": 26,
   "metadata": {},
   "outputs": [],
   "source": [
    "clinical_trials.to_csv('neo4j/trials.tsv', sep=\"\\t\", index=False)"
   ]
  }
 ],
 "metadata": {
  "kernelspec": {
   "display_name": "bigquery_pricing",
   "language": "python",
   "name": "python3"
  },
  "language_info": {
   "codemirror_mode": {
    "name": "ipython",
    "version": 3
   },
   "file_extension": ".py",
   "mimetype": "text/x-python",
   "name": "python",
   "nbconvert_exporter": "python",
   "pygments_lexer": "ipython3",
   "version": "3.11.5"
  }
 },
 "nbformat": 4,
 "nbformat_minor": 2
}
