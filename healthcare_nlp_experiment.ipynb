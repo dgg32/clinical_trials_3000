{
 "cells": [
  {
   "cell_type": "code",
   "execution_count": 202,
   "metadata": {},
   "outputs": [],
   "source": [
    "import pycurl\n",
    "import json\n",
    "from subprocess import check_output\n",
    "from io import BytesIO\n"
   ]
  },
  {
   "cell_type": "code",
   "execution_count": 203,
   "metadata": {},
   "outputs": [],
   "source": [
    "gcp_token = check_output([\"gcloud\", \"auth\", \"print-access-token\"], encoding='UTF-8').strip()"
   ]
  },
  {
   "cell_type": "markdown",
   "metadata": {},
   "source": [
    "curl -X POST     -H \"Authorization: Bearer $(gcloud auth print-access-token)\"     -H \"Content-Type: application/json\"     -d @request.json  \"https://healthcare.googleapis.com/v1/projects/neo4j-dashboard/locations/us-central1/services/nlp:analyzeEntities\""
   ]
  },
  {
   "cell_type": "code",
   "execution_count": 205,
   "metadata": {},
   "outputs": [],
   "source": [
    "offset_text = []\n",
    "\n",
    "\n",
    "begin = 0\n",
    "with open('test_condition.txt') as f:\n",
    "    for line in f.readlines():\n",
    "        end = begin + len(line)\n",
    "        offset_text.append((begin, end, line.strip()))\n",
    "\n",
    "        begin += len(line)"
   ]
  },
  {
   "cell_type": "code",
   "execution_count": 206,
   "metadata": {},
   "outputs": [
    {
     "data": {
      "text/plain": [
       "[(0, 20, 'autoimmune diseases'),\n",
       " (20,\n",
       "  150,\n",
       "  'b-cell acute lymphoblastic leukemia, relapsed b-cell acute lymphoblastic leukemia, refractory b-cell acute lymphoblastic leukemia'),\n",
       " (150, 156, 'hello'),\n",
       " (156, 172, 'bipolar disorder')]"
      ]
     },
     "execution_count": 206,
     "metadata": {},
     "output_type": "execute_result"
    }
   ],
   "source": [
    "offset_text"
   ]
  },
  {
   "cell_type": "code",
   "execution_count": 207,
   "metadata": {},
   "outputs": [],
   "source": [
    "def get_healthcare_json(text: str, gcp_token: str) -> str:\n",
    "    data = {'documentContent': f'{text}'}\n",
    "    post_data = json.dumps(data)\n",
    "    headers = ['Content-Type: application/json', f'Authorization: Bearer {gcp_token}']\n",
    "    buffer = BytesIO()\n",
    "\n",
    "    c = pycurl.Curl()\n",
    "    c.setopt(c.URL, 'https://healthcare.googleapis.com/v1/projects/neo4j-dashboard/locations/us-central1/services/nlp:analyzeEntities')\n",
    "    c.setopt(c.POSTFIELDS, post_data)\n",
    "    c.setopt(c.HTTPHEADER, headers)\n",
    "    c.setopt(c.WRITEDATA, buffer)\n",
    "    c.perform()\n",
    "    c.close()\n",
    "\n",
    "    response = buffer.getvalue().decode('utf-8')\n",
    "\n",
    "    return response"
   ]
  },
  {
   "cell_type": "code",
   "execution_count": 208,
   "metadata": {},
   "outputs": [],
   "source": [
    "gcp_token = check_output([\"gcloud\", \"auth\", \"print-access-token\"], encoding='UTF-8').strip()\n",
    "test_text = \";\".join([x[2] for x in offset_text])"
   ]
  },
  {
   "cell_type": "code",
   "execution_count": 209,
   "metadata": {},
   "outputs": [
    {
     "data": {
      "text/plain": [
       "'autoimmune diseases;b-cell acute lymphoblastic leukemia, relapsed b-cell acute lymphoblastic leukemia, refractory b-cell acute lymphoblastic leukemia;hello;bipolar disorder'"
      ]
     },
     "execution_count": 209,
     "metadata": {},
     "output_type": "execute_result"
    }
   ],
   "source": [
    "test_text\n"
   ]
  },
  {
   "cell_type": "code",
   "execution_count": 210,
   "metadata": {},
   "outputs": [],
   "source": [
    "result = get_healthcare_json(test_text, gcp_token)"
   ]
  },
  {
   "cell_type": "code",
   "execution_count": 211,
   "metadata": {},
   "outputs": [],
   "source": [
    "json_form = json.loads(result)"
   ]
  },
  {
   "cell_type": "code",
   "execution_count": 213,
   "metadata": {},
   "outputs": [
    {
     "name": "stdout",
     "output_type": "stream",
     "text": [
      "autoimmune diseases\tAutoimmune Diseases\tUMLS/C0004364\t0.8982720375061035\tHPO/HP:0002960\tMSH/D001327\n",
      "b-cell acute lymphoblastic leukemia, relapsed b-cell acute lymphoblastic leukemia, refractory b-cell acute lymphoblastic leukemia\tAcute lymphocytic leukemia;Precursor Cell Lymphoblastic Leukemia Lymphoma\tUMLS/C0023449;UMLS/C1961102\t0.687578558921814\tHPO/HP:0006721\tMSH/D054198\n",
      "hello\t\t\t\t\t\n",
      "bipolar disorder\tBipolar Disorder\tUMLS/C0005586\t0.9830496907234192\tHPO/HP:0007302\tMSH/D001714\n",
      "\n"
     ]
    }
   ],
   "source": [
    "def get_raw_problem_tsv(json_form: str, offset_text) -> str:\n",
    "    content = \"\"\n",
    "\n",
    "    linkedEntities = {entity[\"entityId\"]: {\"preferredTerm\": entity[\"preferredTerm\"], \"vocabularyCodes\": entity[\"vocabularyCodes\"]} \n",
    "                  for entity in json_form[\"entities\"]}\n",
    "    \n",
    "    temp_raw_ner = {}\n",
    "    for entity in json_form[\"entityMentions\"]:\n",
    "        if entity[\"type\"] == \"PROBLEM\" and entity[\"confidence\"] > 0.5:\n",
    "            #print (entity[\"text\"], entity[\"linkedEntities\"], entity[\"confidence\"])\n",
    "            begin_offset = entity[\"text\"][\"beginOffset\"]\n",
    "\n",
    "\n",
    "            for i, iterator in enumerate(offset_text):\n",
    "                if iterator[0] <= begin_offset and begin_offset < iterator[1]:\n",
    "                    if i not in temp_raw_ner:\n",
    "                        temp_raw_ner[i] = []\n",
    "                    temp_raw_ner[i].append((entity[\"text\"], entity[\"linkedEntities\"], entity[\"confidence\"]))\n",
    "                    break\n",
    "\n",
    "    #print (temp_raw_ner)\n",
    "    #dereplacate\n",
    "    raw_ner = {}\n",
    "    for i in temp_raw_ner:\n",
    "        current_confidence = 0\n",
    "        current_linkedEntities = None\n",
    "        \n",
    "        olinkedEntities = temp_raw_ner[i][0][1]\n",
    "        confidence = temp_raw_ner[i][0][2]\n",
    "\n",
    "        if confidence > current_confidence:\n",
    "            current_confidence = confidence\n",
    "            current_linkedEntities = olinkedEntities\n",
    "\n",
    "        raw_ner[i] = (temp_raw_ner[i][0][0][\"content\"], current_linkedEntities, current_confidence)\n",
    "\n",
    "    #print (raw_ner)\n",
    "\n",
    "    for i, entity in enumerate(offset_text):\n",
    "        if i in raw_ner:\n",
    "            entityids = [j['entityId'] for j in raw_ner[i][1]]\n",
    "\n",
    "            preferredTerms = [linkedEntities[e][\"preferredTerm\"] for e in entityids]\n",
    "\n",
    "            HPO = []\n",
    "            MSH = []\n",
    "\n",
    "            for e in entityids:\n",
    "                for id in linkedEntities[e][\"vocabularyCodes\"]:\n",
    "                    if id.startswith(\"HPO\"):\n",
    "                        HPO.append(id)\n",
    "                    elif id.startswith(\"MSH\"):\n",
    "                        MSH.append(id)\n",
    "\n",
    "            content += f\"{entity[2]}\\t{';'.join(preferredTerms)}\\t{';'.join(entityids)}\\t{raw_ner[i][2]}\\t{';'.join(HPO)}\\t{';'.join(MSH)}\\n\"\n",
    "        else:\n",
    "            content += f\"{entity[2]}\\t\\t\\t\\t\\t\\n\"\n",
    "\n",
    "    return content\n",
    "\n",
    "print (get_raw_problem_tsv(json_form, offset_text))"
   ]
  },
  {
   "cell_type": "code",
   "execution_count": null,
   "metadata": {},
   "outputs": [],
   "source": []
  }
 ],
 "metadata": {
  "kernelspec": {
   "display_name": "bigquery_pricing",
   "language": "python",
   "name": "python3"
  },
  "language_info": {
   "codemirror_mode": {
    "name": "ipython",
    "version": 3
   },
   "file_extension": ".py",
   "mimetype": "text/x-python",
   "name": "python",
   "nbconvert_exporter": "python",
   "pygments_lexer": "ipython3",
   "version": "3.11.5"
  }
 },
 "nbformat": 4,
 "nbformat_minor": 2
}
