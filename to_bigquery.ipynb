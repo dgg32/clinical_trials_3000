{
 "cells": [
  {
   "cell_type": "code",
   "execution_count": 18,
   "metadata": {},
   "outputs": [],
   "source": [
    "\n",
    "import yaml\n",
    "import json\n",
    "import os\n",
    "from pathlib import Path\n",
    "from neo4j import GraphDatabase\n",
    "\n",
    "\n"
   ]
  },
  {
   "cell_type": "code",
   "execution_count": 19,
   "metadata": {},
   "outputs": [],
   "source": [
    "with open(\"config.yaml\", \"r\") as stream:\n",
    "    try:\n",
    "        PARAM = yaml.safe_load(stream)\n",
    "    except yaml.YAMLError as exc:\n",
    "        print(exc)"
   ]
  },
  {
   "cell_type": "code",
   "execution_count": 20,
   "metadata": {},
   "outputs": [],
   "source": [
    "\n",
    "driver = GraphDatabase.driver(PARAM[\"neo4j_url\"], auth=(PARAM[\"neo4j_username\"], PARAM[\"neo4j_password\"]))\n",
    "\n",
    "records, summary, keys = driver.execute_query(f\"\"\"\n",
    "    CALL apoc.meta.schema()\n",
    "    YIELD value RETURN value;\n",
    "    \"\"\",\n",
    "    database_=\"neo4j\",\n",
    ")\n",
    "# Loop through results and do something with them\n",
    "for record in records:\n",
    "    schema = record.data()[\"value\"]\n",
    "    json_schema = json.dumps(record.data()[\"value\"])\n",
    "    #print (json_schema)\n"
   ]
  },
  {
   "cell_type": "code",
   "execution_count": 21,
   "metadata": {},
   "outputs": [
    {
     "data": {
      "text/plain": [
       "dict_keys(['Condition', 'MedicineMSH', 'HPO_IS_A', 'FOCUSES_ON', 'Sponsors', 'HPO_BELONGS_TO', 'MSH_BELONGS_TO', 'Trial', 'MSH_IS_MAPPED_TO', 'ConditionHPO', 'MSH_IS_A', 'TESTS', 'ConditionMSH', 'Medicine', 'Sponsor'])"
      ]
     },
     "execution_count": 21,
     "metadata": {},
     "output_type": "execute_result"
    }
   ],
   "source": [
    "schema.keys()"
   ]
  },
  {
   "cell_type": "code",
   "execution_count": 22,
   "metadata": {},
   "outputs": [
    {
     "data": {
      "text/plain": [
       "{'Condition': {'count': 279,\n",
       "  'labels': [],\n",
       "  'properties': {'MSH': {'unique': False,\n",
       "    'indexed': False,\n",
       "    'type': 'LIST',\n",
       "    'existence': False},\n",
       "   'HPO': {'unique': False,\n",
       "    'indexed': False,\n",
       "    'type': 'LIST',\n",
       "    'existence': False},\n",
       "   'death_number': {'unique': False,\n",
       "    'indexed': False,\n",
       "    'type': 'STRING',\n",
       "    'existence': False},\n",
       "   'DALY_rate': {'unique': False,\n",
       "    'indexed': False,\n",
       "    'type': 'STRING',\n",
       "    'existence': False},\n",
       "   'death_percent': {'unique': False,\n",
       "    'indexed': False,\n",
       "    'type': 'STRING',\n",
       "    'existence': False},\n",
       "   'name': {'unique': False,\n",
       "    'indexed': False,\n",
       "    'type': 'STRING',\n",
       "    'existence': False},\n",
       "   'DALY_percent': {'unique': False,\n",
       "    'indexed': False,\n",
       "    'type': 'STRING',\n",
       "    'existence': False},\n",
       "   'DALY_number': {'unique': False,\n",
       "    'indexed': False,\n",
       "    'type': 'STRING',\n",
       "    'existence': False},\n",
       "   'UMLS': {'unique': True,\n",
       "    'indexed': True,\n",
       "    'type': 'STRING',\n",
       "    'existence': False},\n",
       "   'deaths_rate': {'unique': False,\n",
       "    'indexed': False,\n",
       "    'type': 'STRING',\n",
       "    'existence': False}},\n",
       "  'type': 'node',\n",
       "  'relationships': {'HPO_IS_A': {'count': 0,\n",
       "    'direction': 'out',\n",
       "    'labels': ['ConditionHPO'],\n",
       "    'properties': {}},\n",
       "   'MSH_IS_A': {'count': 0,\n",
       "    'direction': 'out',\n",
       "    'labels': ['ConditionMSH'],\n",
       "    'properties': {}},\n",
       "   'FOCUSES_ON': {'count': 1235,\n",
       "    'direction': 'in',\n",
       "    'labels': ['Trial'],\n",
       "    'properties': {}}}},\n",
       " 'MedicineMSH': {'count': 561,\n",
       "  'labels': [],\n",
       "  'properties': {'MSH': {'unique': True,\n",
       "    'indexed': True,\n",
       "    'type': 'STRING',\n",
       "    'existence': False},\n",
       "   'name': {'unique': False,\n",
       "    'indexed': False,\n",
       "    'type': 'STRING',\n",
       "    'existence': False}},\n",
       "  'type': 'node',\n",
       "  'relationships': {'MSH_BELONGS_TO': {'count': 0,\n",
       "    'direction': 'out',\n",
       "    'labels': ['MedicineMSH', 'MedicineMSH'],\n",
       "    'properties': {}},\n",
       "   'MSH_IS_MAPPED_TO': {'count': 0,\n",
       "    'direction': 'out',\n",
       "    'labels': ['MedicineMSH', 'MedicineMSH'],\n",
       "    'properties': {}},\n",
       "   'MSH_IS_A': {'count': 296,\n",
       "    'direction': 'in',\n",
       "    'labels': ['Medicine'],\n",
       "    'properties': {}}}},\n",
       " 'HPO_IS_A': {'count': 148, 'properties': {}, 'type': 'relationship'},\n",
       " 'FOCUSES_ON': {'count': 3713, 'properties': {}, 'type': 'relationship'},\n",
       " 'Sponsors': {'count': 3052, 'properties': {}, 'type': 'relationship'},\n",
       " 'HPO_BELONGS_TO': {'count': 478, 'properties': {}, 'type': 'relationship'},\n",
       " 'MSH_BELONGS_TO': {'count': 272, 'properties': {}, 'type': 'relationship'},\n",
       " 'Trial': {'count': 3052,\n",
       "  'labels': [],\n",
       "  'properties': {'id': {'unique': True,\n",
       "    'indexed': True,\n",
       "    'type': 'STRING',\n",
       "    'existence': False},\n",
       "   'date_added': {'unique': False,\n",
       "    'indexed': False,\n",
       "    'type': 'STRING',\n",
       "    'existence': False},\n",
       "   'name': {'unique': False,\n",
       "    'indexed': False,\n",
       "    'type': 'STRING',\n",
       "    'existence': False},\n",
       "   'original_condition': {'unique': False,\n",
       "    'indexed': False,\n",
       "    'type': 'STRING',\n",
       "    'existence': False},\n",
       "   'phase': {'unique': False,\n",
       "    'indexed': False,\n",
       "    'type': 'STRING',\n",
       "    'existence': False},\n",
       "   'analysis_ready_data': {'unique': False,\n",
       "    'indexed': False,\n",
       "    'type': 'STRING',\n",
       "    'existence': False},\n",
       "   'url': {'unique': False,\n",
       "    'indexed': False,\n",
       "    'type': 'STRING',\n",
       "    'existence': False},\n",
       "   'original_medicine': {'unique': False,\n",
       "    'indexed': False,\n",
       "    'type': 'STRING',\n",
       "    'existence': False}},\n",
       "  'type': 'node',\n",
       "  'relationships': {'FOCUSES_ON': {'count': 0,\n",
       "    'direction': 'out',\n",
       "    'labels': ['Condition'],\n",
       "    'properties': {}},\n",
       "   'TESTS': {'count': 0,\n",
       "    'direction': 'out',\n",
       "    'labels': ['Medicine'],\n",
       "    'properties': {}},\n",
       "   'Sponsors': {'count': 3052,\n",
       "    'direction': 'in',\n",
       "    'labels': ['Sponsor'],\n",
       "    'properties': {}}}},\n",
       " 'MSH_IS_MAPPED_TO': {'count': 308, 'properties': {}, 'type': 'relationship'},\n",
       " 'ConditionHPO': {'count': 405,\n",
       "  'labels': [],\n",
       "  'properties': {'HPO': {'unique': True,\n",
       "    'indexed': True,\n",
       "    'type': 'STRING',\n",
       "    'existence': False},\n",
       "   'name': {'unique': False,\n",
       "    'indexed': False,\n",
       "    'type': 'STRING',\n",
       "    'existence': False}},\n",
       "  'type': 'node',\n",
       "  'relationships': {'HPO_BELONGS_TO': {'count': 477,\n",
       "    'direction': 'out',\n",
       "    'labels': ['ConditionHPO', 'ConditionHPO'],\n",
       "    'properties': {}},\n",
       "   'HPO_IS_A': {'count': 148,\n",
       "    'direction': 'in',\n",
       "    'labels': ['Condition'],\n",
       "    'properties': {}}}},\n",
       " 'MSH_IS_A': {'count': 547, 'properties': {}, 'type': 'relationship'},\n",
       " 'TESTS': {'count': 3450, 'properties': {}, 'type': 'relationship'},\n",
       " 'ConditionMSH': {'count': 240,\n",
       "  'labels': [],\n",
       "  'properties': {'may_be_treated_by': {'unique': False,\n",
       "    'indexed': False,\n",
       "    'type': 'LIST',\n",
       "    'existence': False},\n",
       "   'MSH': {'unique': True,\n",
       "    'indexed': True,\n",
       "    'type': 'STRING',\n",
       "    'existence': False},\n",
       "   'name': {'unique': False,\n",
       "    'indexed': False,\n",
       "    'type': 'STRING',\n",
       "    'existence': False}},\n",
       "  'type': 'node',\n",
       "  'relationships': {'MSH_IS_A': {'count': 251,\n",
       "    'direction': 'in',\n",
       "    'labels': ['Condition'],\n",
       "    'properties': {}}}},\n",
       " 'Medicine': {'count': 341,\n",
       "  'labels': [],\n",
       "  'properties': {'MSH': {'unique': False,\n",
       "    'indexed': False,\n",
       "    'type': 'LIST',\n",
       "    'existence': False},\n",
       "   'HPO': {'unique': False,\n",
       "    'indexed': False,\n",
       "    'type': 'LIST',\n",
       "    'existence': False},\n",
       "   'RXNORM': {'unique': False,\n",
       "    'indexed': False,\n",
       "    'type': 'LIST',\n",
       "    'existence': False},\n",
       "   'name': {'unique': False,\n",
       "    'indexed': False,\n",
       "    'type': 'STRING',\n",
       "    'existence': False},\n",
       "   'other_name': {'unique': False,\n",
       "    'indexed': False,\n",
       "    'type': 'STRING',\n",
       "    'existence': False},\n",
       "   'UMLS': {'unique': True,\n",
       "    'indexed': True,\n",
       "    'type': 'STRING',\n",
       "    'existence': False}},\n",
       "  'type': 'node',\n",
       "  'relationships': {'MSH_IS_A': {'count': 0,\n",
       "    'direction': 'out',\n",
       "    'labels': ['MedicineMSH'],\n",
       "    'properties': {}},\n",
       "   'TESTS': {'count': 1160,\n",
       "    'direction': 'in',\n",
       "    'labels': ['Trial'],\n",
       "    'properties': {}}}},\n",
       " 'Sponsor': {'count': 8,\n",
       "  'labels': [],\n",
       "  'properties': {'name': {'unique': True,\n",
       "    'indexed': True,\n",
       "    'type': 'STRING',\n",
       "    'existence': False}},\n",
       "  'type': 'node',\n",
       "  'relationships': {'Sponsors': {'count': 0,\n",
       "    'direction': 'out',\n",
       "    'labels': ['Trial'],\n",
       "    'properties': {}}}}}"
      ]
     },
     "execution_count": 22,
     "metadata": {},
     "output_type": "execute_result"
    }
   ],
   "source": [
    "schema"
   ]
  },
  {
   "cell_type": "code",
   "execution_count": 23,
   "metadata": {},
   "outputs": [
    {
     "data": {
      "text/plain": [
       "'node'"
      ]
     },
     "execution_count": 23,
     "metadata": {},
     "output_type": "execute_result"
    }
   ],
   "source": [
    "schema['Condition']['type']"
   ]
  },
  {
   "cell_type": "code",
   "execution_count": 24,
   "metadata": {},
   "outputs": [
    {
     "data": {
      "text/plain": [
       "{'count': 279,\n",
       " 'labels': [],\n",
       " 'properties': {'MSH': {'unique': False,\n",
       "   'indexed': False,\n",
       "   'type': 'LIST',\n",
       "   'existence': False},\n",
       "  'HPO': {'unique': False,\n",
       "   'indexed': False,\n",
       "   'type': 'LIST',\n",
       "   'existence': False},\n",
       "  'death_number': {'unique': False,\n",
       "   'indexed': False,\n",
       "   'type': 'STRING',\n",
       "   'existence': False},\n",
       "  'DALY_rate': {'unique': False,\n",
       "   'indexed': False,\n",
       "   'type': 'STRING',\n",
       "   'existence': False},\n",
       "  'death_percent': {'unique': False,\n",
       "   'indexed': False,\n",
       "   'type': 'STRING',\n",
       "   'existence': False},\n",
       "  'name': {'unique': False,\n",
       "   'indexed': False,\n",
       "   'type': 'STRING',\n",
       "   'existence': False},\n",
       "  'DALY_percent': {'unique': False,\n",
       "   'indexed': False,\n",
       "   'type': 'STRING',\n",
       "   'existence': False},\n",
       "  'DALY_number': {'unique': False,\n",
       "   'indexed': False,\n",
       "   'type': 'STRING',\n",
       "   'existence': False},\n",
       "  'UMLS': {'unique': True,\n",
       "   'indexed': True,\n",
       "   'type': 'STRING',\n",
       "   'existence': False},\n",
       "  'deaths_rate': {'unique': False,\n",
       "   'indexed': False,\n",
       "   'type': 'STRING',\n",
       "   'existence': False}},\n",
       " 'type': 'node',\n",
       " 'relationships': {'HPO_IS_A': {'count': 0,\n",
       "   'direction': 'out',\n",
       "   'labels': ['ConditionHPO'],\n",
       "   'properties': {}},\n",
       "  'MSH_IS_A': {'count': 0,\n",
       "   'direction': 'out',\n",
       "   'labels': ['ConditionMSH'],\n",
       "   'properties': {}},\n",
       "  'FOCUSES_ON': {'count': 1235,\n",
       "   'direction': 'in',\n",
       "   'labels': ['Trial'],\n",
       "   'properties': {}}}}"
      ]
     },
     "execution_count": 24,
     "metadata": {},
     "output_type": "execute_result"
    }
   ],
   "source": [
    "schema['Condition']"
   ]
  },
  {
   "cell_type": "code",
   "execution_count": 25,
   "metadata": {},
   "outputs": [],
   "source": [
    "#Condition: {SNOMEDCT: STRING}\n",
    "schema_dict = {}\n",
    "node_index = {}\n",
    "\n",
    "relation_A_B = {}\n",
    "\n",
    "for key in schema.keys():\n",
    "    if schema[key]['type'] == 'node':\n",
    "        schema_dict[key] = {}\n",
    "\n",
    "        for p in schema[key]['properties'].keys():\n",
    "            schema_dict[key][p] = schema[key]['properties'][p]['type']\n",
    "\n",
    "            if schema[key]['properties'][p]['unique'] == True:\n",
    "                node_index[key] = p\n",
    "        \n",
    "\n",
    "        for r in schema[key]['relationships'].keys():\n",
    "            if schema[key]['relationships'][r][\"direction\"] == \"out\":\n",
    "                relation_A_B[r] = (key, schema[key]['relationships'][r][\"labels\"][0])"
   ]
  },
  {
   "cell_type": "code",
   "execution_count": 26,
   "metadata": {},
   "outputs": [
    {
     "data": {
      "text/plain": [
       "{'Condition': {'MSH': 'LIST',\n",
       "  'HPO': 'LIST',\n",
       "  'death_number': 'STRING',\n",
       "  'DALY_rate': 'STRING',\n",
       "  'death_percent': 'STRING',\n",
       "  'name': 'STRING',\n",
       "  'DALY_percent': 'STRING',\n",
       "  'DALY_number': 'STRING',\n",
       "  'UMLS': 'STRING',\n",
       "  'deaths_rate': 'STRING'},\n",
       " 'MedicineMSH': {'MSH': 'STRING', 'name': 'STRING'},\n",
       " 'Trial': {'id': 'STRING',\n",
       "  'date_added': 'STRING',\n",
       "  'name': 'STRING',\n",
       "  'original_condition': 'STRING',\n",
       "  'phase': 'STRING',\n",
       "  'analysis_ready_data': 'STRING',\n",
       "  'url': 'STRING',\n",
       "  'original_medicine': 'STRING'},\n",
       " 'ConditionHPO': {'HPO': 'STRING', 'name': 'STRING'},\n",
       " 'ConditionMSH': {'may_be_treated_by': 'LIST',\n",
       "  'MSH': 'STRING',\n",
       "  'name': 'STRING'},\n",
       " 'Medicine': {'MSH': 'LIST',\n",
       "  'HPO': 'LIST',\n",
       "  'RXNORM': 'LIST',\n",
       "  'name': 'STRING',\n",
       "  'other_name': 'STRING',\n",
       "  'UMLS': 'STRING'},\n",
       " 'Sponsor': {'name': 'STRING'}}"
      ]
     },
     "execution_count": 26,
     "metadata": {},
     "output_type": "execute_result"
    }
   ],
   "source": [
    "schema_dict"
   ]
  },
  {
   "cell_type": "code",
   "execution_count": 27,
   "metadata": {},
   "outputs": [
    {
     "data": {
      "text/plain": [
       "{'Condition': 'UMLS',\n",
       " 'MedicineMSH': 'MSH',\n",
       " 'Trial': 'id',\n",
       " 'ConditionHPO': 'HPO',\n",
       " 'ConditionMSH': 'MSH',\n",
       " 'Medicine': 'UMLS',\n",
       " 'Sponsor': 'name'}"
      ]
     },
     "execution_count": 27,
     "metadata": {},
     "output_type": "execute_result"
    }
   ],
   "source": [
    "node_index"
   ]
  },
  {
   "cell_type": "code",
   "execution_count": 28,
   "metadata": {},
   "outputs": [
    {
     "data": {
      "text/plain": [
       "{'HPO_IS_A': ('Condition', 'ConditionHPO'),\n",
       " 'MSH_IS_A': ('Medicine', 'MedicineMSH'),\n",
       " 'MSH_BELONGS_TO': ('MedicineMSH', 'MedicineMSH'),\n",
       " 'MSH_IS_MAPPED_TO': ('MedicineMSH', 'MedicineMSH'),\n",
       " 'FOCUSES_ON': ('Trial', 'Condition'),\n",
       " 'TESTS': ('Trial', 'Medicine'),\n",
       " 'HPO_BELONGS_TO': ('ConditionHPO', 'ConditionHPO'),\n",
       " 'Sponsors': ('Sponsor', 'Trial')}"
      ]
     },
     "execution_count": 28,
     "metadata": {},
     "output_type": "execute_result"
    }
   ],
   "source": [
    "relation_A_B"
   ]
  },
  {
   "cell_type": "code",
   "execution_count": 29,
   "metadata": {},
   "outputs": [
    {
     "data": {
      "text/plain": [
       "{'MSH': {'unique': False,\n",
       "  'indexed': False,\n",
       "  'type': 'LIST',\n",
       "  'existence': False},\n",
       " 'HPO': {'unique': False,\n",
       "  'indexed': False,\n",
       "  'type': 'LIST',\n",
       "  'existence': False},\n",
       " 'death_number': {'unique': False,\n",
       "  'indexed': False,\n",
       "  'type': 'STRING',\n",
       "  'existence': False},\n",
       " 'DALY_rate': {'unique': False,\n",
       "  'indexed': False,\n",
       "  'type': 'STRING',\n",
       "  'existence': False},\n",
       " 'death_percent': {'unique': False,\n",
       "  'indexed': False,\n",
       "  'type': 'STRING',\n",
       "  'existence': False},\n",
       " 'name': {'unique': False,\n",
       "  'indexed': False,\n",
       "  'type': 'STRING',\n",
       "  'existence': False},\n",
       " 'DALY_percent': {'unique': False,\n",
       "  'indexed': False,\n",
       "  'type': 'STRING',\n",
       "  'existence': False},\n",
       " 'DALY_number': {'unique': False,\n",
       "  'indexed': False,\n",
       "  'type': 'STRING',\n",
       "  'existence': False},\n",
       " 'UMLS': {'unique': True,\n",
       "  'indexed': True,\n",
       "  'type': 'STRING',\n",
       "  'existence': False},\n",
       " 'deaths_rate': {'unique': False,\n",
       "  'indexed': False,\n",
       "  'type': 'STRING',\n",
       "  'existence': False}}"
      ]
     },
     "execution_count": 29,
     "metadata": {},
     "output_type": "execute_result"
    }
   ],
   "source": [
    "schema['Condition']['properties']"
   ]
  },
  {
   "cell_type": "code",
   "execution_count": 30,
   "metadata": {},
   "outputs": [
    {
     "name": "stdout",
     "output_type": "stream",
     "text": [
      "Condition\n",
      "MedicineMSH\n",
      "Trial\n",
      "ConditionHPO\n",
      "ConditionMSH\n",
      "Medicine\n",
      "Sponsor\n"
     ]
    }
   ],
   "source": [
    "for label in schema.keys():\n",
    "    if schema[label]['type'] == 'node':\n",
    "        print (label)"
   ]
  },
  {
   "cell_type": "code",
   "execution_count": 31,
   "metadata": {},
   "outputs": [],
   "source": [
    "# variable_name = \"t\"\n",
    "# output_directory = \"tsv\"\n",
    "\n",
    "# for node_type in schema.keys():\n",
    "#     if schema[node_type]['type'] == 'node':\n",
    "\n",
    "#         records, summary, keys = driver.execute_query(f\"\"\"\n",
    "#             MATCH ({variable_name}:{node_type})\n",
    "#             RETURN {variable_name}\n",
    "#             \"\"\",\n",
    "#             database_=\"neo4j\",\n",
    "#         )\n",
    "        \n",
    "#         header = list(schema[node_type]['properties'].keys())\n",
    "#         content = \"\\t\".join(header) + \"\\n\"\n",
    "#         for record in records:\n",
    "#             result = record.data()[f\"{variable_name}\"]\n",
    "            \n",
    "#             for h in header:\n",
    "#                 if h in result:\n",
    "#                     content += str(result[h]) + \"\\t\"\n",
    "#                 else:\n",
    "#                     content += \"\\t\"\n",
    "#             content = content[:-1] + \"\\n\"\n",
    "\n",
    "#         with open(os.path.join(output_directory, f\"{node_type}.tsv\"), 'w') as f:\n",
    "#             f.write(content)\n"
   ]
  },
  {
   "cell_type": "code",
   "execution_count": 32,
   "metadata": {},
   "outputs": [
    {
     "name": "stdout",
     "output_type": "stream",
     "text": [
      "HPO_IS_A {'count': 148, 'properties': {}, 'type': 'relationship'}\n",
      "FOCUSES_ON {'count': 3713, 'properties': {}, 'type': 'relationship'}\n",
      "Sponsors {'count': 3052, 'properties': {}, 'type': 'relationship'}\n",
      "HPO_BELONGS_TO {'count': 478, 'properties': {}, 'type': 'relationship'}\n",
      "MSH_BELONGS_TO {'count': 272, 'properties': {}, 'type': 'relationship'}\n",
      "MSH_IS_MAPPED_TO {'count': 308, 'properties': {}, 'type': 'relationship'}\n",
      "MSH_IS_A {'count': 547, 'properties': {}, 'type': 'relationship'}\n",
      "TESTS {'count': 3450, 'properties': {}, 'type': 'relationship'}\n"
     ]
    }
   ],
   "source": [
    "for node_type in schema.keys():\n",
    "    if schema[node_type]['type'] == 'relationship':\n",
    "        print (node_type, schema[node_type])"
   ]
  },
  {
   "cell_type": "code",
   "execution_count": 33,
   "metadata": {},
   "outputs": [],
   "source": [
    "variable_name = \"t\"\n",
    "output_directory = \"json\"\n",
    "\n",
    "for relation_type in relation_A_B.keys():\n",
    "    A = relation_A_B[relation_type][0]\n",
    "    B = relation_A_B[relation_type][1]\n",
    "    \n",
    "    A_index = node_index[A]\n",
    "    B_index = node_index[B]\n",
    "\n",
    "\n",
    "    records, summary, keys = driver.execute_query(f\"\"\"\n",
    "            MATCH (A_:{A}) -[r:{relation_type}]-> (B_:{B})\n",
    "            RETURN A_.{A_index}, B_.{B_index}\n",
    "            \"\"\",\n",
    "            database_=\"neo4j\",\n",
    "        )\n",
    "\n",
    "    content = \"\"\n",
    "        #header = list(schema[node_type]['properties'].keys())\n",
    "        #content = \"\\t\".join(header) + \"\\n\"\n",
    "    for record in records:\n",
    "            \n",
    "        from_ = record.data()[f\"A_.{A_index}\"]\n",
    "        to_ = record.data()[f\"B_.{B_index}\"]\n",
    "\n",
    "        content += json.dumps({\"from\": from_, \"to\": to_}) + \"\\n\"\n",
    "    \n",
    "    with open(os.path.join(output_directory, f\"{relation_type}.json\"), 'w') as f:\n",
    "            f.write(content)"
   ]
  },
  {
   "cell_type": "code",
   "execution_count": 34,
   "metadata": {},
   "outputs": [],
   "source": [
    "output_directory = \"json\"\n",
    "\n",
    "for node_type in schema.keys():\n",
    "    if schema[node_type]['type'] == 'node':\n",
    "\n",
    "        records, summary, keys = driver.execute_query(f\"\"\"\n",
    "            MATCH ({variable_name}:{node_type})\n",
    "            RETURN {variable_name}\n",
    "            \"\"\",\n",
    "            database_=\"neo4j\",\n",
    "        )\n",
    "        \n",
    "        content = \"\"\n",
    "        #header = list(schema[node_type]['properties'].keys())\n",
    "        #content = \"\\t\".join(header) + \"\\n\"\n",
    "        for record in records:\n",
    "            \n",
    "            content += json.dumps(record.data()[variable_name]) + \"\\n\"\n",
    "\n",
    "        with open(os.path.join(output_directory, f\"{node_type}.json\"), 'w') as f:\n",
    "            f.write(content)"
   ]
  },
  {
   "cell_type": "code",
   "execution_count": 35,
   "metadata": {},
   "outputs": [],
   "source": [
    "from google.cloud import bigquery"
   ]
  },
  {
   "cell_type": "code",
   "execution_count": 38,
   "metadata": {},
   "outputs": [
    {
     "data": {
      "text/plain": [
       "Dataset(DatasetReference('544977051234', 'trials_3000'))"
      ]
     },
     "execution_count": 38,
     "metadata": {},
     "output_type": "execute_result"
    }
   ],
   "source": [
    "bq_client = bigquery.Client()\n",
    "bigquery_project = PARAM[\"bigquery_project\"]\n",
    "bigquery_dataset = PARAM[\"bigquery_dataset\"]\n",
    "bq_client.create_dataset(dataset=bigquery_dataset, exists_ok=True)"
   ]
  },
  {
   "cell_type": "code",
   "execution_count": 39,
   "metadata": {},
   "outputs": [
    {
     "name": "stdout",
     "output_type": "stream",
     "text": [
      "json/MSH_IS_MAPPED_TO.json\n",
      "Loaded 924 rows and 2 columns to neo4j-dashboard.trials_3000.MSH_IS_MAPPED_TO\n",
      "json/ConditionHPO.json\n",
      "Loaded 1215 rows and 2 columns to neo4j-dashboard.trials_3000.ConditionHPO\n",
      "json/HPO_IS_A.json\n",
      "Loaded 444 rows and 2 columns to neo4j-dashboard.trials_3000.HPO_IS_A\n",
      "json/Sponsors.json\n",
      "Loaded 9156 rows and 2 columns to neo4j-dashboard.trials_3000.Sponsors\n",
      "json/FOCUSES_ON.json\n",
      "Loaded 11139 rows and 2 columns to neo4j-dashboard.trials_3000.FOCUSES_ON\n",
      "json/MSH_IS_A.json\n",
      "Loaded 888 rows and 2 columns to neo4j-dashboard.trials_3000.MSH_IS_A\n",
      "json/MSH_BELONGS_TO.json\n",
      "Loaded 816 rows and 2 columns to neo4j-dashboard.trials_3000.MSH_BELONGS_TO\n",
      "json/TESTS.json\n",
      "Loaded 10350 rows and 2 columns to neo4j-dashboard.trials_3000.TESTS\n",
      "json/Condition.json\n",
      "Loaded 837 rows and 10 columns to neo4j-dashboard.trials_3000.Condition\n",
      "json/Trial.json\n",
      "Loaded 9156 rows and 8 columns to neo4j-dashboard.trials_3000.Trial\n",
      "json/ConditionMSH.json\n",
      "Loaded 240 rows and 3 columns to neo4j-dashboard.trials_3000.ConditionMSH\n",
      "json/HPO_BELONGS_TO.json\n",
      "Loaded 1434 rows and 2 columns to neo4j-dashboard.trials_3000.HPO_BELONGS_TO\n",
      "json/MedicineMSH.json\n",
      "Loaded 1683 rows and 2 columns to neo4j-dashboard.trials_3000.MedicineMSH\n",
      "json/Sponsor.json\n",
      "Loaded 24 rows and 1 columns to neo4j-dashboard.trials_3000.Sponsor\n",
      "json/Medicine.json\n",
      "Loaded 1023 rows and 6 columns to neo4j-dashboard.trials_3000.Medicine\n"
     ]
    }
   ],
   "source": [
    "#for f in bucket.list_blobs(prefix='json'):\n",
    "#for f in bucket.list_blobs(prefix='tsv'):\n",
    "from pathlib import Path\n",
    "\n",
    "pathlist = Path(\"json\").rglob('*.json')\n",
    "for path in pathlist:\n",
    "    full_path = str(path)\n",
    "    \n",
    "    print (full_path)\n",
    "\n",
    "    filename = full_path.split(\"/\")[1]\n",
    "    nodename = filename.split(\".\")[0]\n",
    "    # print (full_path, nodename)\n",
    "\n",
    "    # #schema_setting = [bigquery.SchemaField(property_, schema_dict[nodename][property_]) for property_ in schema_dict[nodename].keys()]\n",
    "    # schema_setting = []\n",
    "\n",
    "    # # for property_ in schema_dict[nodename].keys():\n",
    "    # #     type_ = schema_dict[nodename][property_]\n",
    "    # #     if type_ != \"LIST\":\n",
    "    # #         schema_setting.append(bigquery.SchemaField(property_, type_))\n",
    "    # #     else:\n",
    " \n",
    "    # #         schema_setting.append(bigquery.SchemaField(property_, \"STRING\", mode=\"REPEATED\"))\n",
    "\n",
    "    # #print (schema_setting)\n",
    "    job_config = bigquery.LoadJobConfig(\n",
    "    #schema=schema_setting,\n",
    "    autodetect=True,\n",
    "    #skip_leading_rows=1,\n",
    "    #field_delimiter=\"\\t\",\n",
    "    # The source format defaults to CSV, so the line below is optional.\n",
    "    source_format=bigquery.SourceFormat.NEWLINE_DELIMITED_JSON,\n",
    "    )\n",
    "\n",
    "    table_id = f\"{bigquery_project}.{bigquery_dataset}.{nodename}\"\n",
    "\n",
    "    with open(full_path, \"rb\") as source_file:\n",
    "        job = bq_client.load_table_from_file(source_file, table_id, job_config=job_config)\n",
    "\n",
    "    job.result()  # Waits for the job to complete.\n",
    "\n",
    "    table = bq_client.get_table(table_id)  # Make an API request.\n",
    "    print(\n",
    "        \"Loaded {} rows and {} columns to {}\".format(\n",
    "            table.num_rows, len(table.schema), table_id\n",
    "        )\n",
    "    )\n",
    "\n",
    "    # table_id = f\"{bigquery_project}.{bigquery_dataset}.{nodename}\"\n",
    "\n",
    "    # load_job = bq_client.load_table_from_uri(\n",
    "    #     full_path, table_id, job_config=job_config\n",
    "    # )  # Make an API request.\n",
    "\n",
    "    # load_job.result()  # Waits for the job to complete.\n",
    "\n",
    "    # destination_table = bq_client.get_table(table_id)  # Make an API request.\n",
    "    # print(\"Loaded {} rows.\".format(destination_table.num_rows))"
   ]
  },
  {
   "cell_type": "code",
   "execution_count": null,
   "metadata": {},
   "outputs": [],
   "source": []
  }
 ],
 "metadata": {
  "kernelspec": {
   "display_name": "neo4j_bigquery",
   "language": "python",
   "name": "python3"
  },
  "language_info": {
   "codemirror_mode": {
    "name": "ipython",
    "version": 3
   },
   "file_extension": ".py",
   "mimetype": "text/x-python",
   "name": "python",
   "nbconvert_exporter": "python",
   "pygments_lexer": "ipython3",
   "version": "3.11.5"
  }
 },
 "nbformat": 4,
 "nbformat_minor": 2
}
