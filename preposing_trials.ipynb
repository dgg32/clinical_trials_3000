{
 "cells": [
  {
   "cell_type": "code",
   "execution_count": 1,
   "metadata": {},
   "outputs": [],
   "source": [
    "import machine_umls_annotation\n",
    "import pandas as pd\n",
    "\n",
    "from google.cloud import spanner\n",
    "from google.cloud.spanner_admin_database_v1.types import spanner_database_admin\n",
    "import os\n",
    "import json"
   ]
  },
  {
   "cell_type": "code",
   "execution_count": 2,
   "metadata": {},
   "outputs": [],
   "source": [
    "os.environ[\"GOOGLE_APPLICATION_CREDENTIALS\"] = \"/Users/dgg32/.config/gcloud/application_default_credentials.json\""
   ]
  },
  {
   "cell_type": "code",
   "execution_count": 3,
   "metadata": {},
   "outputs": [],
   "source": [
    "if not os.path.exists(\"temp/trials_umls.tsv\"):\n",
    "\n",
    "    query_column = \"Medicine or Vaccine (generic name)\"\n",
    "    df = machine_umls_annotation.machine_assign_umls(\"neo4j/trials.tsv\", query_column)\n",
    "    df[(df['CUI_umls'].str.strip() != \"\") & pd.notnull(df['CUI_umls'])].to_csv(\"temp/trials_umls.tsv\", sep='\\t', index=False)\n",
    "else:\n",
    "\n",
    "    df = pd.read_csv(\"temp/trials_umls.tsv\", sep='\\t', lineterminator='\\n')\n",
    "\n",
    "#df[pd.notnull(df['CUI_umls'])].to_csv(\"temp/trials_umls.tsv\", sep='\\t', index=False)"
   ]
  },
  {
   "cell_type": "code",
   "execution_count": 4,
   "metadata": {},
   "outputs": [
    {
     "data": {
      "text/html": [
       "<div>\n",
       "<style scoped>\n",
       "    .dataframe tbody tr th:only-of-type {\n",
       "        vertical-align: middle;\n",
       "    }\n",
       "\n",
       "    .dataframe tbody tr th {\n",
       "        vertical-align: top;\n",
       "    }\n",
       "\n",
       "    .dataframe thead th {\n",
       "        text-align: right;\n",
       "    }\n",
       "</style>\n",
       "<table border=\"1\" class=\"dataframe\">\n",
       "  <thead>\n",
       "    <tr style=\"text-align: right;\">\n",
       "      <th></th>\n",
       "      <th>Posting ID</th>\n",
       "      <th>Sponsor</th>\n",
       "      <th>Study Title</th>\n",
       "      <th>Medicine or Vaccine (generic name)</th>\n",
       "      <th>Sponsor Identification Number</th>\n",
       "      <th>Medical Condition</th>\n",
       "      <th>Phase</th>\n",
       "      <th>Link to Sponsor Study Registry</th>\n",
       "      <th>Link to study details on ClinicalTrials.gov (if available)</th>\n",
       "      <th>Link to study details on EudraCT (if available)</th>\n",
       "      <th>...</th>\n",
       "      <th>Dataset specifications</th>\n",
       "      <th>Protocol with any amendments</th>\n",
       "      <th>Raw dataset</th>\n",
       "      <th>Reporting and analysis plan</th>\n",
       "      <th>Additional Information about the data and documents available for this study</th>\n",
       "      <th>Date Added to this Site</th>\n",
       "      <th>CUI_umls</th>\n",
       "      <th>preferred_umls_name</th>\n",
       "      <th>semantic_type</th>\n",
       "      <th>high_confidence</th>\n",
       "    </tr>\n",
       "  </thead>\n",
       "  <tbody>\n",
       "    <tr>\n",
       "      <th>0</th>\n",
       "      <td>1</td>\n",
       "      <td>GSK</td>\n",
       "      <td>U0289-401: An Evaluator Blinded, 8 Week, Split...</td>\n",
       "      <td>benzoyl peroxide/salicylic acid</td>\n",
       "      <td>STF114550</td>\n",
       "      <td>Acne Vulgaris</td>\n",
       "      <td>Phase 4</td>\n",
       "      <td>https://www.gsk-studyregister.com/en/trial-det...</td>\n",
       "      <td>http://clinicaltrials.gov/show/NCT01706250</td>\n",
       "      <td>NaN</td>\n",
       "      <td>...</td>\n",
       "      <td>Y</td>\n",
       "      <td>N</td>\n",
       "      <td>Y</td>\n",
       "      <td>N</td>\n",
       "      <td>An analysis-ready dataset and a reporting and ...</td>\n",
       "      <td>1-Aug-2015</td>\n",
       "      <td>C0005088;C0036079</td>\n",
       "      <td>benzoyl peroxide;salicylic acid</td>\n",
       "      <td>Organic Chemical|Pharmacologic Substance;Organ...</td>\n",
       "      <td>True;True</td>\n",
       "    </tr>\n",
       "    <tr>\n",
       "      <th>1</th>\n",
       "      <td>3</td>\n",
       "      <td>GSK</td>\n",
       "      <td>GSK1550188, A randomised, single-blind, placeb...</td>\n",
       "      <td>belimumab</td>\n",
       "      <td>BEL114243</td>\n",
       "      <td>Systemic Lupus Erythematosus</td>\n",
       "      <td>Phase 1</td>\n",
       "      <td>https://www.gsk-studyregister.com/en/trial-det...</td>\n",
       "      <td>http://clinicaltrials.gov/show/NCT01381536</td>\n",
       "      <td>NaN</td>\n",
       "      <td>...</td>\n",
       "      <td>Y</td>\n",
       "      <td>N</td>\n",
       "      <td>Y</td>\n",
       "      <td>Y</td>\n",
       "      <td>An analysis-ready dataset is not available for...</td>\n",
       "      <td>1-Jul-2015</td>\n",
       "      <td>C1723401</td>\n",
       "      <td>belimumab</td>\n",
       "      <td>Amino Acid, Peptide, or Protein|Pharmacologic ...</td>\n",
       "      <td>True</td>\n",
       "    </tr>\n",
       "    <tr>\n",
       "      <th>2</th>\n",
       "      <td>4</td>\n",
       "      <td>GSK</td>\n",
       "      <td>A Multicenter, Randomized, Double-Blind, Phase...</td>\n",
       "      <td>calcipotriol, calcipotriene</td>\n",
       "      <td>STF114741</td>\n",
       "      <td>Psoriasis</td>\n",
       "      <td>Phase 3</td>\n",
       "      <td>https://www.gsk-studyregister.com/en/trial-det...</td>\n",
       "      <td>http://clinicaltrials.gov/show/NCT00688519</td>\n",
       "      <td>NaN</td>\n",
       "      <td>...</td>\n",
       "      <td>Y</td>\n",
       "      <td>Y</td>\n",
       "      <td>Y</td>\n",
       "      <td>Y</td>\n",
       "      <td>NaN</td>\n",
       "      <td>1-Jul-2015</td>\n",
       "      <td>C0065767</td>\n",
       "      <td>calcipotriene</td>\n",
       "      <td>Organic Chemical|Pharmacologic Substance</td>\n",
       "      <td>True</td>\n",
       "    </tr>\n",
       "    <tr>\n",
       "      <th>3</th>\n",
       "      <td>8</td>\n",
       "      <td>GSK</td>\n",
       "      <td>Two-week Study to Determine and Compare the To...</td>\n",
       "      <td>benzoyl peroxide/clindamycin phosphate</td>\n",
       "      <td>STF114546</td>\n",
       "      <td>Acne Vulgaris</td>\n",
       "      <td>Phase 4</td>\n",
       "      <td>https://www.gsk-studyregister.com/en/trial-det...</td>\n",
       "      <td>http://clinicaltrials.gov/show/NCT01015638</td>\n",
       "      <td>NaN</td>\n",
       "      <td>...</td>\n",
       "      <td>Y</td>\n",
       "      <td>Y</td>\n",
       "      <td>Y</td>\n",
       "      <td>N</td>\n",
       "      <td>An analysis-ready dataset and reporting and an...</td>\n",
       "      <td>1-Aug-2014</td>\n",
       "      <td>C0005088;C0055881</td>\n",
       "      <td>benzoyl peroxide;clindamycin phosphate</td>\n",
       "      <td>Organic Chemical|Pharmacologic Substance;Organ...</td>\n",
       "      <td>True;True</td>\n",
       "    </tr>\n",
       "    <tr>\n",
       "      <th>4</th>\n",
       "      <td>9</td>\n",
       "      <td>GSK</td>\n",
       "      <td>A single-blind, randomized, comparative split-...</td>\n",
       "      <td>benzoyl peroxide/clindamycin phosphate</td>\n",
       "      <td>STF114547</td>\n",
       "      <td>Acne Vulgaris</td>\n",
       "      <td>Phase 4</td>\n",
       "      <td>https://www.gsk-studyregister.com/en/trial-det...</td>\n",
       "      <td>http://clinicaltrials.gov/show/NCT00964223</td>\n",
       "      <td>NaN</td>\n",
       "      <td>...</td>\n",
       "      <td>Y</td>\n",
       "      <td>Y</td>\n",
       "      <td>N</td>\n",
       "      <td>Y</td>\n",
       "      <td>A raw dataset is not available for this study.</td>\n",
       "      <td>1-Aug-2014</td>\n",
       "      <td>C0005088;C0055881</td>\n",
       "      <td>benzoyl peroxide;clindamycin phosphate</td>\n",
       "      <td>Organic Chemical|Pharmacologic Substance;Organ...</td>\n",
       "      <td>True;True</td>\n",
       "    </tr>\n",
       "  </tbody>\n",
       "</table>\n",
       "<p>5 rows × 23 columns</p>\n",
       "</div>"
      ],
      "text/plain": [
       "   Posting ID Sponsor                                        Study Title  \\\n",
       "0           1     GSK  U0289-401: An Evaluator Blinded, 8 Week, Split...   \n",
       "1           3     GSK  GSK1550188, A randomised, single-blind, placeb...   \n",
       "2           4     GSK  A Multicenter, Randomized, Double-Blind, Phase...   \n",
       "3           8     GSK  Two-week Study to Determine and Compare the To...   \n",
       "4           9     GSK  A single-blind, randomized, comparative split-...   \n",
       "\n",
       "       Medicine or Vaccine (generic name) Sponsor Identification Number  \\\n",
       "0         benzoyl peroxide/salicylic acid                     STF114550   \n",
       "1                               belimumab                     BEL114243   \n",
       "2             calcipotriol, calcipotriene                     STF114741   \n",
       "3  benzoyl peroxide/clindamycin phosphate                     STF114546   \n",
       "4  benzoyl peroxide/clindamycin phosphate                     STF114547   \n",
       "\n",
       "              Medical Condition    Phase  \\\n",
       "0                 Acne Vulgaris  Phase 4   \n",
       "1  Systemic Lupus Erythematosus  Phase 1   \n",
       "2                     Psoriasis  Phase 3   \n",
       "3                 Acne Vulgaris  Phase 4   \n",
       "4                 Acne Vulgaris  Phase 4   \n",
       "\n",
       "                      Link to Sponsor Study Registry  \\\n",
       "0  https://www.gsk-studyregister.com/en/trial-det...   \n",
       "1  https://www.gsk-studyregister.com/en/trial-det...   \n",
       "2  https://www.gsk-studyregister.com/en/trial-det...   \n",
       "3  https://www.gsk-studyregister.com/en/trial-det...   \n",
       "4  https://www.gsk-studyregister.com/en/trial-det...   \n",
       "\n",
       "  Link to study details on ClinicalTrials.gov (if available)  \\\n",
       "0         http://clinicaltrials.gov/show/NCT01706250           \n",
       "1         http://clinicaltrials.gov/show/NCT01381536           \n",
       "2         http://clinicaltrials.gov/show/NCT00688519           \n",
       "3         http://clinicaltrials.gov/show/NCT01015638           \n",
       "4         http://clinicaltrials.gov/show/NCT00964223           \n",
       "\n",
       "  Link to study details on EudraCT (if available)  ... Dataset specifications  \\\n",
       "0                                             NaN  ...                      Y   \n",
       "1                                             NaN  ...                      Y   \n",
       "2                                             NaN  ...                      Y   \n",
       "3                                             NaN  ...                      Y   \n",
       "4                                             NaN  ...                      Y   \n",
       "\n",
       "  Protocol with any amendments Raw dataset Reporting and analysis plan  \\\n",
       "0                            N           Y                           N   \n",
       "1                            N           Y                           Y   \n",
       "2                            Y           Y                           Y   \n",
       "3                            Y           Y                           N   \n",
       "4                            Y           N                           Y   \n",
       "\n",
       "  Additional Information about the data and documents available for this study  \\\n",
       "0  An analysis-ready dataset and a reporting and ...                             \n",
       "1  An analysis-ready dataset is not available for...                             \n",
       "2                                                NaN                             \n",
       "3  An analysis-ready dataset and reporting and an...                             \n",
       "4     A raw dataset is not available for this study.                             \n",
       "\n",
       "  Date Added to this Site           CUI_umls  \\\n",
       "0              1-Aug-2015  C0005088;C0036079   \n",
       "1              1-Jul-2015           C1723401   \n",
       "2              1-Jul-2015           C0065767   \n",
       "3              1-Aug-2014  C0005088;C0055881   \n",
       "4              1-Aug-2014  C0005088;C0055881   \n",
       "\n",
       "                      preferred_umls_name  \\\n",
       "0         benzoyl peroxide;salicylic acid   \n",
       "1                               belimumab   \n",
       "2                           calcipotriene   \n",
       "3  benzoyl peroxide;clindamycin phosphate   \n",
       "4  benzoyl peroxide;clindamycin phosphate   \n",
       "\n",
       "                                       semantic_type high_confidence  \n",
       "0  Organic Chemical|Pharmacologic Substance;Organ...       True;True  \n",
       "1  Amino Acid, Peptide, or Protein|Pharmacologic ...            True  \n",
       "2           Organic Chemical|Pharmacologic Substance            True  \n",
       "3  Organic Chemical|Pharmacologic Substance;Organ...       True;True  \n",
       "4  Organic Chemical|Pharmacologic Substance;Organ...       True;True  \n",
       "\n",
       "[5 rows x 23 columns]"
      ]
     },
     "execution_count": 4,
     "metadata": {},
     "output_type": "execute_result"
    }
   ],
   "source": [
    "df.head()"
   ]
  },
  {
   "cell_type": "code",
   "execution_count": 5,
   "metadata": {},
   "outputs": [],
   "source": [
    "spanner_client = spanner.Client()\n",
    "\n",
    "project_id = \"spanner-432202\"\n",
    "project_location = \"asia-northeast1\"\n",
    "instance_id = \"drug-disease-trials\"\n",
    "database_id = \"drug-disease-trial-db\"\n",
    "\n",
    "# Get a Cloud Spanner instance by ID.\n",
    "#instance = spanner_client.instance(\"drug-disease-trials\")\n",
    "#database = instance.database(\"drug-disease-trial\")\n"
   ]
  },
  {
   "cell_type": "code",
   "execution_count": 6,
   "metadata": {},
   "outputs": [
    {
     "name": "stderr",
     "output_type": "stream",
     "text": [
      "WARNING: All log messages before absl::InitializeLog() is called are written to STDERR\n",
      "I0000 00:00:1724378668.928429 7937224 check_gcp_environment_no_op.cc:29] ALTS: Platforms other than Linux and Windows are not supported\n"
     ]
    }
   ],
   "source": [
    "\n",
    "database_admin_api = spanner_client.database_admin_api\n",
    "\n",
    "request = spanner_database_admin.CreateDatabaseRequest(\n",
    "        parent=database_admin_api.instance_path(spanner_client.project, instance_id),\n",
    "        create_statement=f\"CREATE DATABASE `{database_id}`\",\n",
    "        extra_statements=[\n",
    "            \"\"\"CREATE TABLE Trials (\n",
    "            PostingID     INT64 NOT NULL,\n",
    "            Sponsor    STRING(1024),\n",
    "            StudyTitle     STRING(1024),\n",
    "            Drug   STRING(1024),\n",
    "            Disorder   STRING(1024),\n",
    "            Phase   STRING(1024),\n",
    "            LinkToSponsorStudyRegistry   STRING(1024),\n",
    "            LinkToClinicalTrials   STRING(1024),\n",
    "            cui  ARRAY<STRING(MAX)>,\n",
    "            PreferredUMLSName   ARRAY<STRING(MAX)>,\n",
    "            StudyTitle_Tokens TOKENLIST AS (TOKENIZE_FULLTEXT(StudyTitle)) HIDDEN,\n",
    "            ) PRIMARY KEY (PostingID)\"\"\",\n",
    "\n",
    "            \"\"\"CREATE SEARCH INDEX StudyIndex\n",
    "            ON Trials(StudyTitle_Tokens)\n",
    "            \"\"\",\n",
    "\n",
    "            \"\"\"CREATE TABLE Drug (\n",
    "            drug_cui  STRING(1024) NOT NULL,\n",
    "            name  STRING(1024)\n",
    "            ) PRIMARY KEY (drug_cui)\"\"\",\n",
    "\n",
    "            \"\"\"CREATE TABLE Disorder (\n",
    "            disorder_cui  STRING(1024) NOT NULL,\n",
    "            name  STRING(1024),\n",
    "            definition  STRING(3072),\n",
    "            definitionEmbedding ARRAY<FLOAT32>(vector_length=>768)\n",
    "            ) PRIMARY KEY (disorder_cui)\"\"\",\n",
    "\n",
    "            \"\"\"CREATE TABLE DrugDisorder (\n",
    "            drug_cui  STRING(1024) NOT NULL,\n",
    "            disorder_cui  STRING(1024) NOT NULL,\n",
    "            FOREIGN KEY (disorder_cui) REFERENCES Disorder (disorder_cui)\n",
    "            ) PRIMARY KEY (drug_cui, disorder_cui),\n",
    "            INTERLEAVE IN PARENT Drug ON DELETE CASCADE\"\"\",\n",
    "\n",
    "            \"\"\"CREATE TABLE MOA (\n",
    "            moa_id  STRING(1024),\n",
    "            name  STRING(1024)\n",
    "            ) PRIMARY KEY (moa_id)\"\"\",\n",
    "\n",
    "            \"\"\"CREATE TABLE DrugMOA (\n",
    "            drug_cui  STRING(1024) NOT NULL,\n",
    "            moa_id  STRING(1024) NOT NULL,\n",
    "            FOREIGN KEY (moa_id) REFERENCES MOA (moa_id)\n",
    "            ) PRIMARY KEY (drug_cui, moa_id),\n",
    "            INTERLEAVE IN PARENT Drug ON DELETE CASCADE\"\"\",\n",
    "\n",
    "            \"\"\"CREATE OR REPLACE PROPERTY GRAPH DrugGraph\n",
    "            NODE TABLES (Drug, Disorder, MOA)\n",
    "            EDGE TABLES (\n",
    "                DrugDisorder\n",
    "                    SOURCE KEY (drug_cui) REFERENCES Drug (drug_cui)\n",
    "                    DESTINATION KEY (disorder_cui) REFERENCES Disorder (disorder_cui)\n",
    "                    LABEL MAY_TREAT,\n",
    "                DrugMOA\n",
    "                    SOURCE KEY (drug_cui) REFERENCES Drug (drug_cui)\n",
    "                    DESTINATION KEY (moa_id) REFERENCES MOA (moa_id)\n",
    "                    LABEL HAS_MECHANISM_OF_ACTION\n",
    "            )\n",
    "            \"\"\",\n",
    "\n",
    "            f\"\"\"CREATE MODEL EmbeddingsModel INPUT(\n",
    "            content STRING(MAX),\n",
    "                ) OUTPUT(\n",
    "                embeddings STRUCT<statistics STRUCT<truncated BOOL, token_count FLOAT32>, values ARRAY<FLOAT32>>,\n",
    "            ) REMOTE OPTIONS (\n",
    "                endpoint = '//aiplatform.googleapis.com/projects/{project_id}/locations/{project_location}/publishers/google/models/text-embedding-004'\n",
    "                )\n",
    "            \"\"\",\n",
    "\n",
    "            f\"\"\"CREATE MODEL LLMModel INPUT(\n",
    "                prompt STRING(MAX),\n",
    "                ) OUTPUT(\n",
    "                content STRING(MAX),\n",
    "                ) REMOTE OPTIONS (\n",
    "                endpoint = '//aiplatform.googleapis.com/projects/{project_id}/locations/{project_location}/publishers/google/models/gemini-pro',\n",
    "                default_batch_size = 1\n",
    "                )\n",
    "            \"\"\"\n",
    "\n",
    "\n",
    "        ]\n",
    "    )\n",
    "\n",
    "operation = database_admin_api.create_database(request=request)\n",
    "\n"
   ]
  },
  {
   "cell_type": "code",
   "execution_count": 7,
   "metadata": {},
   "outputs": [
    {
     "name": "stdout",
     "output_type": "stream",
     "text": [
      "[(1, 'GSK', 'U0289-401: An Evaluator Blinded, 8 Week, Split-Face Study to Evaluate and Compare the Efficacy and Tolerability of MAXCLARITY II and PROACTIV in Subjects with Acne', 'benzoyl peroxide/salicylic acid', 'Acne Vulgaris', 'Phase 4', 'https://www.gsk-studyregister.com/en/trial-details/?id=114550', 'http://clinicaltrials.gov/show/NCT01706250', ['C0005088', 'C0036079'], ['benzoyl peroxide', 'salicylic acid']), (3, 'GSK', 'GSK1550188, A randomised, single-blind, placebo controlled, dose ascending, single dose study to evaluate the safety, tolerability, pharmacokinetics, and pharmacodynamic of GSK1550188 in Japanese subjects with Systemic Lupus Erythematosus (SLE)', 'belimumab', 'Systemic Lupus Erythematosus', 'Phase 1', 'https://www.gsk-studyregister.com/en/trial-details/?id=114243', 'http://clinicaltrials.gov/show/NCT01381536', ['C1723401'], ['belimumab'])]\n"
     ]
    }
   ],
   "source": [
    "df = pd.read_csv(\"temp/trials_umls.tsv\", sep='\\t', lineterminator='\\n')\n",
    "values = []\n",
    "\n",
    "for index, row in df.iterrows():\n",
    "    values.append((row[\"Posting ID\"], row[\"Sponsor\"], row[\"Study Title\"], row[\"Medicine or Vaccine (generic name)\"], row[\"Medical Condition\"], row[\"Phase\"], row[\"Link to Sponsor Study Registry\"], row[\"Link to study details on ClinicalTrials.gov (if available)\"], row[\"CUI_umls\"].split(\";\"), row[\"preferred_umls_name\"].split(\";\")))\n",
    "\n",
    "print (values[:2])"
   ]
  },
  {
   "cell_type": "code",
   "execution_count": 8,
   "metadata": {},
   "outputs": [
    {
     "name": "stderr",
     "output_type": "stream",
     "text": [
      "I0000 00:00:1724378679.042221 7937224 check_gcp_environment_no_op.cc:29] ALTS: Platforms other than Linux and Windows are not supported\n"
     ]
    }
   ],
   "source": [
    "instance = spanner_client.instance(instance_id)\n",
    "database = instance.database(database_id)\n",
    "\n",
    "with database.batch() as batch:\n",
    "        batch.insert(\n",
    "            table=\"Trials\",\n",
    "            columns=(\"PostingID\", \"Sponsor\", \"StudyTitle\", \"Drug\", \"Disorder\", \"Phase\", \"LinkToSponsorStudyRegistry\", \"LinkToClinicalTrials\", \"cui\", \"PreferredUMLSName\"),\n",
    "            values=values\n",
    "        )"
   ]
  },
  {
   "cell_type": "code",
   "execution_count": 9,
   "metadata": {},
   "outputs": [
    {
     "name": "stdout",
     "output_type": "stream",
     "text": [
      "[('C0048318', 'mequinol'), ('C0035629', 'rimantadine')]\n"
     ]
    }
   ],
   "source": [
    "\n",
    "values = []\n",
    "\n",
    "for line in open(\"spanner/drugs_4.json\", \"r\"):\n",
    "    value = json.loads(line)\n",
    "\n",
    "    values.append((value[\"cui\"], value[\"name\"]))\n",
    "\n",
    "print (values[:2])"
   ]
  },
  {
   "cell_type": "code",
   "execution_count": 10,
   "metadata": {},
   "outputs": [],
   "source": [
    "with database.batch() as batch:\n",
    "        batch.insert(\n",
    "            table=\"Drug\",\n",
    "            columns=(\"drug_cui\", \"name\"),\n",
    "            values=values\n",
    "        )"
   ]
  },
  {
   "cell_type": "code",
   "execution_count": 11,
   "metadata": {},
   "outputs": [
    {
     "name": "stdout",
     "output_type": "stream",
     "text": [
      "[('C0023321', 'Lentigo', \"Small circumscribed melanoses resembling, but differing histologically from, freckles. The concept includes senile lentigo ('liver spots') and nevoid lentigo (nevus spilus, lentigo simplex) and may also occur in association with multiple congenital defects or congenital syndromes (e.g., Peutz-Jeghers syndrome).\"), ('C0021400', 'Influenza', 'An acute viral infection in humans involving the respiratory tract. It is marked by inflammation of the NASAL MUCOSA; the PHARYNX; and conjunctiva, and by headache and severe, often generalized, myalgia.')]\n"
     ]
    }
   ],
   "source": [
    "values = []\n",
    "\n",
    "for line in open(\"spanner/disease_4.json\", \"r\"):\n",
    "    value = json.loads(line)\n",
    "\n",
    "    values.append((value[\"cui\"], value[\"name\"], value[\"definition\"]))\n",
    "\n",
    "print (values[:2])"
   ]
  },
  {
   "cell_type": "code",
   "execution_count": 12,
   "metadata": {},
   "outputs": [],
   "source": [
    "with database.batch() as batch:\n",
    "        batch.insert(\n",
    "            table=\"Disorder\",\n",
    "            columns=(\"disorder_cui\", \"name\", \"definition\"),\n",
    "            values=values\n",
    "        )"
   ]
  },
  {
   "cell_type": "code",
   "execution_count": 13,
   "metadata": {},
   "outputs": [
    {
     "name": "stdout",
     "output_type": "stream",
     "text": [
      "[('N0000175850', 'Melanin Synthesis Inhibitors'), ('N0000175542', 'M2 Protein Inhibitors')]\n"
     ]
    }
   ],
   "source": [
    "values = []\n",
    "\n",
    "df = pd.read_csv(\"spanner/moa_3.tsv\", sep='\\t', lineterminator='\\n')\n",
    "\n",
    "for index, row in df.iterrows():\n",
    "    values.append((row[\"id\"], row[\"name\"]))\n",
    "\n",
    "print (values[:2])\n"
   ]
  },
  {
   "cell_type": "code",
   "execution_count": 14,
   "metadata": {},
   "outputs": [],
   "source": [
    "with database.batch() as batch:\n",
    "        batch.insert(\n",
    "            table=\"MOA\",\n",
    "            columns=(\"moa_id\", \"name\"),\n",
    "            values=values\n",
    "        )"
   ]
  },
  {
   "cell_type": "code",
   "execution_count": 15,
   "metadata": {},
   "outputs": [
    {
     "name": "stdout",
     "output_type": "stream",
     "text": [
      "[('C0048318', 'C0023321'), ('C0035629', 'C0021400')]\n"
     ]
    }
   ],
   "source": [
    "values = []\n",
    "\n",
    "df = pd.read_csv(\"spanner/cui_indication_3.tsv\", sep='\\t', lineterminator='\\n')\n",
    "\n",
    "for index, row in df.iterrows():\n",
    "    values.append((row[\"from\"], row[\"to\"]))\n",
    "\n",
    "print (values[:2])"
   ]
  },
  {
   "cell_type": "code",
   "execution_count": 16,
   "metadata": {},
   "outputs": [],
   "source": [
    "with database.batch() as batch:\n",
    "        batch.insert(\n",
    "            table=\"DrugDisorder\",\n",
    "            columns=(\"drug_cui\", \"disorder_cui\"),\n",
    "            values=values\n",
    "        )"
   ]
  },
  {
   "cell_type": "code",
   "execution_count": 17,
   "metadata": {},
   "outputs": [
    {
     "name": "stdout",
     "output_type": "stream",
     "text": [
      "[('C0046056', 'N0000000205'), ('C4550366', 'N0000187062')]\n"
     ]
    }
   ],
   "source": [
    "values = []\n",
    "\n",
    "df = pd.read_csv(\"spanner/cui_moa_3.tsv\", sep='\\t', lineterminator='\\n')\n",
    "\n",
    "for index, row in df.iterrows():\n",
    "    values.append((row[\"from\"], row[\"to\"]))\n",
    "\n",
    "print (values[:2])"
   ]
  },
  {
   "cell_type": "code",
   "execution_count": 18,
   "metadata": {},
   "outputs": [],
   "source": [
    "with database.batch() as batch:\n",
    "        batch.insert(\n",
    "            table=\"DrugMOA\",\n",
    "            columns=(\"drug_cui\", \"moa_id\"),\n",
    "            values=values\n",
    "        )"
   ]
  },
  {
   "cell_type": "code",
   "execution_count": 21,
   "metadata": {},
   "outputs": [],
   "source": [
    "\n",
    "def create_embeddings(transaction):\n",
    "    row_ct = transaction.execute_update(\n",
    "        \"\"\"\n",
    "        UPDATE Disorder\n",
    "        SET\n",
    "        Disorder.definitionEmbedding = (\n",
    "            SELECT embeddings.values\n",
    "            FROM SAFE.ML.PREDICT(\n",
    "            MODEL EmbeddingsModel,\n",
    "            (SELECT Disorder.definition AS content)\n",
    "            ) @{remote_udf_max_rows_per_rpc=200}\n",
    "        )\n",
    "        WHERE Disorder.definitionEmbedding IS NULL AND Disorder.definition <> ''\n",
    "        \"\"\"\n",
    "    )\n",
    "\n",
    "\n",
    "database.run_in_transaction(create_embeddings)"
   ]
  },
  {
   "cell_type": "code",
   "execution_count": 20,
   "metadata": {},
   "outputs": [],
   "source": [
    "### This does not work for granular instances (instance with just one node)\n",
    "\n",
    "# operation = database.update_ddl([\n",
    "#     \"\"\"\n",
    "#         CREATE VECTOR INDEX ConditionsDefinitionEmbeddingIndex\n",
    "#             ON Conditions(definitionEmbedding)\n",
    "#             WHERE definitionEmbedding IS NOT NULL\n",
    "#         OPTIONS (distance_type = 'COSINE')\n",
    "# \"\"\"])\n",
    "    \n",
    "# print('Waiting for operation to complete...')\n",
    "# operation.result()"
   ]
  }
 ],
 "metadata": {
  "kernelspec": {
   "display_name": "drug_atc",
   "language": "python",
   "name": "python3"
  },
  "language_info": {
   "codemirror_mode": {
    "name": "ipython",
    "version": 3
   },
   "file_extension": ".py",
   "mimetype": "text/x-python",
   "name": "python",
   "nbconvert_exporter": "python",
   "pygments_lexer": "ipython3",
   "version": "3.11.9"
  }
 },
 "nbformat": 4,
 "nbformat_minor": 2
}
